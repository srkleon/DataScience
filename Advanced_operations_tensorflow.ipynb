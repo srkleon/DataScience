{
  "nbformat": 4,
  "nbformat_minor": 0,
  "metadata": {
    "colab": {
      "provenance": [],
      "authorship_tag": "ABX9TyPx02S8thEmtxa9Df/mUQxA",
      "include_colab_link": true
    },
    "kernelspec": {
      "name": "python3",
      "display_name": "Python 3"
    },
    "language_info": {
      "name": "python"
    }
  },
  "cells": [
    {
      "cell_type": "markdown",
      "metadata": {
        "id": "view-in-github",
        "colab_type": "text"
      },
      "source": [
        "<a href=\"https://colab.research.google.com/github/srkleon/DataScience/blob/main/Advanced_operations_tensorflow.ipynb\" target=\"_parent\"><img src=\"https://colab.research.google.com/assets/colab-badge.svg\" alt=\"Open In Colab\"/></a>"
      ]
    },
    {
      "cell_type": "markdown",
      "source": [
        "Reshaping"
      ],
      "metadata": {
        "id": "eQj6mmUgPQpi"
      }
    },
    {
      "cell_type": "code",
      "source": [
        "import numpy as np\n",
        "import tensorflow as tf"
      ],
      "metadata": {
        "id": "KYDIr4YbPUfG"
      },
      "execution_count": 2,
      "outputs": []
    },
    {
      "cell_type": "code",
      "source": [
        "a = tf.Variable([[1,2,3],[4,5,6],[7,8,9]],dtype = tf.float32)\n",
        "a.numpy()"
      ],
      "metadata": {
        "colab": {
          "base_uri": "https://localhost:8080/"
        },
        "id": "BKelgWCjPonN",
        "outputId": "c3578c3d-0ecb-47db-a0dc-5ffc8d05b3ec"
      },
      "execution_count": 3,
      "outputs": [
        {
          "output_type": "execute_result",
          "data": {
            "text/plain": [
              "array([[1., 2., 3.],\n",
              "       [4., 5., 6.],\n",
              "       [7., 8., 9.]], dtype=float32)"
            ]
          },
          "metadata": {},
          "execution_count": 3
        }
      ]
    },
    {
      "cell_type": "code",
      "source": [
        "print(\"reshaped tensor : \" , tf.reshape(a,(1,9)).numpy())"
      ],
      "metadata": {
        "colab": {
          "base_uri": "https://localhost:8080/"
        },
        "id": "RVDv_pt9P8gl",
        "outputId": "fdff0bda-7e14-4f5d-c6f3-517d14de6b3d"
      },
      "execution_count": 4,
      "outputs": [
        {
          "output_type": "stream",
          "name": "stdout",
          "text": [
            "reshaped tensor :  [[1. 2. 3. 4. 5. 6. 7. 8. 9.]]\n"
          ]
        }
      ]
    },
    {
      "cell_type": "code",
      "source": [
        "try:\n",
        "  a_reshape= tf.reshape(a,(4,3))\n",
        "except Exception as e:\n",
        "  print(\"Exception raised while reshaping:\\n\", str(e))\n"
      ],
      "metadata": {
        "colab": {
          "base_uri": "https://localhost:8080/"
        },
        "id": "-y92uWjjQGrN",
        "outputId": "2d7a59f4-26fc-4536-c3f4-7a908744cab5"
      },
      "execution_count": 5,
      "outputs": [
        {
          "output_type": "stream",
          "name": "stdout",
          "text": [
            "Exception raised while reshaping:\n",
            " {{function_node __wrapped__Reshape_device_/job:localhost/replica:0/task:0/device:CPU:0}} Input to reshape is a tensor with 9 values, but the requested shape has 12 [Op:Reshape]\n"
          ]
        }
      ]
    },
    {
      "cell_type": "code",
      "source": [
        "tf.reduce_sum(a,axis = 1).shape"
      ],
      "metadata": {
        "colab": {
          "base_uri": "https://localhost:8080/"
        },
        "id": "zGVs0hRcQ52D",
        "outputId": "d9457ab8-753b-4bc4-9345-d831023895c0"
      },
      "execution_count": 6,
      "outputs": [
        {
          "output_type": "execute_result",
          "data": {
            "text/plain": [
              "TensorShape([3])"
            ]
          },
          "metadata": {},
          "execution_count": 6
        }
      ]
    },
    {
      "cell_type": "code",
      "source": [
        "b = tf.Variable([[[[1,2,3]]]],dtype= tf.float32)\n",
        "b.numpy()"
      ],
      "metadata": {
        "colab": {
          "base_uri": "https://localhost:8080/"
        },
        "id": "CVxyoC4MUgJI",
        "outputId": "6ba91e43-cda7-42a3-85c4-c9c6ba76a7d5"
      },
      "execution_count": 7,
      "outputs": [
        {
          "output_type": "execute_result",
          "data": {
            "text/plain": [
              "array([[[[1., 2., 3.]]]], dtype=float32)"
            ]
          },
          "metadata": {},
          "execution_count": 7
        }
      ]
    },
    {
      "cell_type": "code",
      "source": [
        "b.shape\n"
      ],
      "metadata": {
        "colab": {
          "base_uri": "https://localhost:8080/"
        },
        "id": "JZdC2gJYWeh1",
        "outputId": "2de1734c-3e73-4206-ae1a-ca2bb76d8e63"
      },
      "execution_count": 8,
      "outputs": [
        {
          "output_type": "execute_result",
          "data": {
            "text/plain": [
              "TensorShape([1, 1, 1, 3])"
            ]
          },
          "metadata": {},
          "execution_count": 8
        }
      ]
    },
    {
      "cell_type": "code",
      "source": [
        "\n",
        "c = b*a\n",
        "c.numpy()"
      ],
      "metadata": {
        "colab": {
          "base_uri": "https://localhost:8080/"
        },
        "id": "OmnclAViWkMc",
        "outputId": "bb502616-906c-40c7-e777-50588718fc3a"
      },
      "execution_count": 9,
      "outputs": [
        {
          "output_type": "execute_result",
          "data": {
            "text/plain": [
              "array([[[[ 1.,  4.,  9.],\n",
              "         [ 4., 10., 18.],\n",
              "         [ 7., 16., 27.]]]], dtype=float32)"
            ]
          },
          "metadata": {},
          "execution_count": 9
        }
      ]
    },
    {
      "cell_type": "code",
      "source": [
        "c.shape"
      ],
      "metadata": {
        "colab": {
          "base_uri": "https://localhost:8080/"
        },
        "id": "ofP2EC5zXhjR",
        "outputId": "24ef5160-94e2-4d52-d14a-44e59d23fddf"
      },
      "execution_count": 10,
      "outputs": [
        {
          "output_type": "execute_result",
          "data": {
            "text/plain": [
              "TensorShape([1, 1, 3, 3])"
            ]
          },
          "metadata": {},
          "execution_count": 10
        }
      ]
    },
    {
      "cell_type": "code",
      "source": [
        "d = tf.Variable([1,2,3],dtype=tf.float32)\n",
        "d"
      ],
      "metadata": {
        "colab": {
          "base_uri": "https://localhost:8080/"
        },
        "id": "NrtFpVKmX0KY",
        "outputId": "ab9b6c53-bb5e-4ce9-f56c-36d5b41be189"
      },
      "execution_count": 11,
      "outputs": [
        {
          "output_type": "execute_result",
          "data": {
            "text/plain": [
              "<tf.Variable 'Variable:0' shape=(3,) dtype=float32, numpy=array([1., 2., 3.], dtype=float32)>"
            ]
          },
          "metadata": {},
          "execution_count": 11
        }
      ]
    },
    {
      "cell_type": "code",
      "source": [
        "d = tf.expand_dims(d,axis=0)\n",
        "d"
      ],
      "metadata": {
        "colab": {
          "base_uri": "https://localhost:8080/"
        },
        "id": "8bN8Lwx4ZliM",
        "outputId": "8795a968-3d0c-4235-c4d1-28c06bbc8da8"
      },
      "execution_count": 12,
      "outputs": [
        {
          "output_type": "execute_result",
          "data": {
            "text/plain": [
              "<tf.Tensor: shape=(1, 3), dtype=float32, numpy=array([[1., 2., 3.]], dtype=float32)>"
            ]
          },
          "metadata": {},
          "execution_count": 12
        }
      ]
    },
    {
      "cell_type": "code",
      "source": [
        "tf.reshape(a,[1,3,1,3]).numpy()"
      ],
      "metadata": {
        "colab": {
          "base_uri": "https://localhost:8080/"
        },
        "id": "rKVvsyW3aSVS",
        "outputId": "c101f8a4-da2e-441c-ffab-298f42377c40"
      },
      "execution_count": 13,
      "outputs": [
        {
          "output_type": "execute_result",
          "data": {
            "text/plain": [
              "array([[[[1., 2., 3.]],\n",
              "\n",
              "        [[4., 5., 6.]],\n",
              "\n",
              "        [[7., 8., 9.]]]], dtype=float32)"
            ]
          },
          "metadata": {},
          "execution_count": 13
        }
      ]
    },
    {
      "cell_type": "code",
      "source": [],
      "metadata": {
        "id": "5kln2mrJc00M"
      },
      "execution_count": 13,
      "outputs": []
    },
    {
      "cell_type": "markdown",
      "source": [
        "Gradient"
      ],
      "metadata": {
        "id": "bjJRy0k4-KQV"
      }
    },
    {
      "cell_type": "code",
      "source": [
        "x = tf.Variable([-2],dtype = tf.float32)\n",
        "\n",
        "with tf.GradientTape() as tape:\n",
        "  y = (3*tf.pow(x,3)) + (5*tf.pow(x,2)) - (3*x) + 10\n",
        "\n",
        "dx_dy = tape.gradient(y,x)\n",
        "dx_dy.numpy()"
      ],
      "metadata": {
        "colab": {
          "base_uri": "https://localhost:8080/"
        },
        "id": "2h6kkGRB-Ma2",
        "outputId": "4f836155-8599-41e8-ec72-ae2e22f70345"
      },
      "execution_count": 14,
      "outputs": [
        {
          "output_type": "execute_result",
          "data": {
            "text/plain": [
              "array([13.], dtype=float32)"
            ]
          },
          "metadata": {},
          "execution_count": 14
        }
      ]
    },
    {
      "cell_type": "code",
      "source": [
        "x= tf.Variable([10],dtype=tf.float32)\n",
        "\n",
        "with tf.GradientTape() as tape:\n",
        "  y = tf.pow(3,0.2*x) + 5*tf.pow(x,2) - np.log(x) + tf.nn.tanh(x)\n",
        "\n",
        "dx_dy = tape.gradient(y,x)\n",
        "dx_dy.numpy()"
      ],
      "metadata": {
        "colab": {
          "base_uri": "https://localhost:8080/"
        },
        "id": "oxMNLxQY_Br9",
        "outputId": "9cfbb157-2999-4f61-f1cf-e0a558955d29"
      },
      "execution_count": 15,
      "outputs": [
        {
          "output_type": "execute_result",
          "data": {
            "text/plain": [
              "array([101.9775], dtype=float32)"
            ]
          },
          "metadata": {},
          "execution_count": 15
        }
      ]
    },
    {
      "cell_type": "code",
      "source": [
        "x = tf.Variable((10), dtype=tf.float32)\n",
        "with tf.GradientTape() as tape:\n",
        "  y = tf.pow(3, 0.2 * x) + 5* tf.pow(x,2) - tf.math.log(x) + tf.math.tanh (x)\n",
        "dy_dx = tape.gradient(y,x)\n",
        "print(\"The slope of the function at x = 10 is \", dy_dx.numpy())"
      ],
      "metadata": {
        "colab": {
          "base_uri": "https://localhost:8080/"
        },
        "id": "7LGRQ-IJ_luK",
        "outputId": "28b36663-0f7b-40ae-f9ad-9c86baa3ae81"
      },
      "execution_count": 16,
      "outputs": [
        {
          "output_type": "stream",
          "name": "stdout",
          "text": [
            "The slope of the function at x = 10 is  101.8775\n"
          ]
        }
      ]
    },
    {
      "cell_type": "code",
      "source": [
        "x = tf.Variable([5],dtype = tf.float32)\n",
        "with tf.GradientTape(persistent=True) as tape:\n",
        "  t = tf.pow((tf.pow(x,0.3) + 0.1),0.5)\n",
        "  p = tf.exp(4*t)\n",
        "  q = tf.pow(p,2) - 4*p\n",
        "grad_p = tape.gradient(p,x)\n",
        "grad_q = tape.gradient(q,x)\n",
        "print(grad_p.numpy(),grad_q.numpy())"
      ],
      "metadata": {
        "colab": {
          "base_uri": "https://localhost:8080/"
        },
        "id": "3c9wLVDsA4Hv",
        "outputId": "6fefa394-680d-4079-fa01-12f9d71c9c4f"
      },
      "execution_count": 17,
      "outputs": [
        {
          "output_type": "stream",
          "name": "stdout",
          "text": [
            "[28.167446] [10590.189]\n"
          ]
        }
      ]
    },
    {
      "cell_type": "code",
      "source": [
        "x = tf.Variable([3],dtype = tf.float32,trainable =True)\n",
        "y = tf.Variable([4],dtype = tf.float32,trainable =False)\n",
        "with tf.GradientTape() as tape:\n",
        "  p = x**2 + y**2\n",
        "\n",
        "try:\n",
        "  dp_dx,dp_dy = tape.gradient(p,[x,y])\n",
        "  print(dp_dx.numpy())\n",
        "  print(dp_dy.numpy())\n",
        "except Exception as e:\n",
        "  print(\"exception : \", str(e))"
      ],
      "metadata": {
        "colab": {
          "base_uri": "https://localhost:8080/"
        },
        "id": "r7nfZNpFziha",
        "outputId": "a44ee7d1-e6b6-4c53-aef6-4515fd6f48ec"
      },
      "execution_count": 18,
      "outputs": [
        {
          "output_type": "stream",
          "name": "stdout",
          "text": [
            "[6.]\n",
            "exception :  'NoneType' object has no attribute 'numpy'\n"
          ]
        }
      ]
    },
    {
      "cell_type": "code",
      "source": [],
      "metadata": {
        "id": "-ikBsKG244Lh"
      },
      "execution_count": 18,
      "outputs": []
    },
    {
      "cell_type": "markdown",
      "source": [
        "Minimising Funtion"
      ],
      "metadata": {
        "id": "HbK5UzoQ6SpT"
      }
    },
    {
      "cell_type": "code",
      "source": [
        "\"\"\"\n",
        "1. initialize x\n",
        "2. compute the gradient dy_dx\n",
        "3. compute updated x\n",
        "4. calculate y after updating x\n",
        "5. check tolerance\n",
        "6. stopping criteria\n",
        "\"\"\"\n",
        "\n",
        "\n",
        "x  = tf.Variable(tf.random.normal((1,)))\n",
        "x"
      ],
      "metadata": {
        "colab": {
          "base_uri": "https://localhost:8080/"
        },
        "id": "Ncrc12g-bBfH",
        "outputId": "b6f1eef4-0bb5-4fcf-d25b-8db9f7a3718d"
      },
      "execution_count": 51,
      "outputs": [
        {
          "output_type": "execute_result",
          "data": {
            "text/plain": [
              "<tf.Variable 'Variable:0' shape=(1,) dtype=float32, numpy=array([0.01611193], dtype=float32)>"
            ]
          },
          "metadata": {},
          "execution_count": 51
        }
      ]
    },
    {
      "cell_type": "code",
      "source": [
        "lr = tf.constant(0.1)\n",
        "tolerance = 1.\n",
        "y_prev = x**2 -4\n",
        "x_values=[]\n",
        "y_values=[]\n",
        "num_iters =[]\n",
        "for  i in range(10):\n",
        "  print(\"x , y_prev : \" , x.numpy()[0], y_prev.numpy()[0])\n",
        "  with tf.GradientTape() as tape:\n",
        "    y = 7* x**2 - 4*x +10\n",
        "  dy_dx = tape.gradient(y,x)\n",
        "\n",
        "  x.assign( x - (lr * dy_dx))\n",
        "\n",
        "  y_new = 7* x**2 - 4*x +10\n",
        "  x_values.append(x.numpy()[0])\n",
        "  y_values.append(y_new.numpy()[0])\n",
        "  num_iters.append(i)\n",
        "  print(\"x , y_new : \" , x.numpy()[0], y_new.numpy()[0])\n",
        "\n",
        "  delta = tf.abs(((y_new - y_prev) * 100./y_prev).numpy()[0])\n",
        "  print(\"delta : \", delta)\n",
        "  \"\"\"if delta  <= tolerance:\n",
        "    print(\"Exiting Loop\")\n",
        "    break\n",
        "  else :\"\"\"\n",
        "  y_prev = y_new"
      ],
      "metadata": {
        "colab": {
          "base_uri": "https://localhost:8080/"
        },
        "id": "fbTg9UD1x40e",
        "outputId": "60430785-8b99-4b4d-c7ca-60b590c12de9"
      },
      "execution_count": 52,
      "outputs": [
        {
          "output_type": "stream",
          "name": "stdout",
          "text": [
            "x , y_prev :  0.016111935 -3.9997404\n",
            "x , y_new :  0.39355522 9.509979\n",
            "delta :  tf.Tensor(337.7649, shape=(), dtype=float32)\n",
            "x , y_prev :  0.39355522 9.509979\n",
            "x , y_new :  0.2425779 9.441597\n",
            "delta :  tf.Tensor(0.719058, shape=(), dtype=float32)\n",
            "x , y_prev :  0.2425779 9.441597\n",
            "x , y_new :  0.30296886 9.4306555\n",
            "delta :  tf.Tensor(0.115886174, shape=(), dtype=float32)\n",
            "x , y_prev :  0.30296886 9.4306555\n",
            "x , y_new :  0.27881247 9.428905\n",
            "delta :  tf.Tensor(0.018566536, shape=(), dtype=float32)\n",
            "x , y_prev :  0.27881247 9.428905\n",
            "x , y_new :  0.288475 9.428625\n",
            "delta :  tf.Tensor(0.0029635106, shape=(), dtype=float32)\n",
            "x , y_prev :  0.288475 9.428625\n",
            "x , y_new :  0.28461 9.42858\n",
            "delta :  tf.Tensor(0.0004753895, shape=(), dtype=float32)\n",
            "x , y_prev :  0.28461 9.42858\n",
            "x , y_new :  0.286156 9.428573\n",
            "delta :  tf.Tensor(8.091774e-05, shape=(), dtype=float32)\n",
            "x , y_prev :  0.286156 9.428573\n",
            "x , y_new :  0.2855376 9.428572\n",
            "delta :  tf.Tensor(1.0114726e-05, shape=(), dtype=float32)\n",
            "x , y_prev :  0.2855376 9.428572\n",
            "x , y_new :  0.28578496 9.428572\n",
            "delta :  tf.Tensor(0.0, shape=(), dtype=float32)\n",
            "x , y_prev :  0.28578496 9.428572\n",
            "x , y_new :  0.28568602 9.428572\n",
            "delta :  tf.Tensor(0.0, shape=(), dtype=float32)\n"
          ]
        }
      ]
    },
    {
      "cell_type": "code",
      "source": [
        "import matplotlib.pyplot as plt\n"
      ],
      "metadata": {
        "id": "F204R-un0vyq"
      },
      "execution_count": 48,
      "outputs": []
    },
    {
      "cell_type": "code",
      "source": [
        "plt.plot(num_iters, x_values)"
      ],
      "metadata": {
        "colab": {
          "base_uri": "https://localhost:8080/",
          "height": 450
        },
        "id": "N31FsDxC0w8F",
        "outputId": "08770df1-480b-4d69-9305-be0a7b8af7a8"
      },
      "execution_count": 53,
      "outputs": [
        {
          "output_type": "execute_result",
          "data": {
            "text/plain": [
              "[<matplotlib.lines.Line2D at 0x7c8a93a398d0>]"
            ]
          },
          "metadata": {},
          "execution_count": 53
        },
        {
          "output_type": "display_data",
          "data": {
            "text/plain": [
              "<Figure size 640x480 with 1 Axes>"
            ],
            "image/png": "[encoded data removed]"
          },
          "metadata": {}
        }
      ]
    },
    {
      "cell_type": "code",
      "source": [
        "plt.plot(num_iters,y_values)"
      ],
      "metadata": {
        "colab": {
          "base_uri": "https://localhost:8080/",
          "height": 447
        },
        "id": "lFTRkHw-7jai",
        "outputId": "746ce620-d389-44c4-b8ce-9975f87d5386"
      },
      "execution_count": 54,
      "outputs": [
        {
          "output_type": "execute_result",
          "data": {
            "text/plain": [
              "[<matplotlib.lines.Line2D at 0x7c8a937e4220>]"
            ]
          },
          "metadata": {},
          "execution_count": 54
        },
        {
          "output_type": "display_data",
          "data": {
            "text/plain": [
              "<Figure size 640x480 with 1 Axes>"
            ],
            "image/png": "[encoded data removed]"
          },
          "metadata": {}
        }
      ]
    },
    {
      "cell_type": "code",
      "source": [],
      "metadata": {
        "id": "XtnPvrFJ7rAa"
      },
      "execution_count": null,
      "outputs": []
    }
  ]
}