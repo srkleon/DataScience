{
  "nbformat": 4,
  "nbformat_minor": 0,
  "metadata": {
    "colab": {
      "provenance": [],
      "authorship_tag": "ABX9TyMDthCld5fJBP/PxWUV+8Qa",
      "include_colab_link": true
    },
    "kernelspec": {
      "name": "python3",
      "display_name": "Python 3"
    },
    "language_info": {
      "name": "python"
    }
  },
  "cells": [
    {
      "cell_type": "markdown",
      "metadata": {
        "id": "view-in-github",
        "colab_type": "text"
      },
      "source": [
        "<a href=\"https://colab.research.google.com/github/srkleon/DataScience/blob/main/IMDB.ipynb\" target=\"_parent\"><img src=\"https://colab.research.google.com/assets/colab-badge.svg\" alt=\"Open In Colab\"/></a>"
      ]
    },
    {
      "cell_type": "code",
      "execution_count": 1,
      "metadata": {
        "id": "XrE5VvaH2Ith"
      },
      "outputs": [],
      "source": [
        "import numpy as np\n",
        "import pandas as pd\n",
        "import tensorflow as tf\n",
        "from tensorflow import keras\n",
        "import  matplotlib.pyplot as plt\n",
        "import seaborn as sns\n",
        "from sklearn.model_selection import train_test_split"
      ]
    },
    {
      "cell_type": "code",
      "source": [
        "from keras.datasets import imdb\n"
      ],
      "metadata": {
        "id": "gshufdwI2LNn"
      },
      "execution_count": 2,
      "outputs": []
    },
    {
      "cell_type": "code",
      "source": [
        "(train_data,train_labels),(test_data,test_labels) = imdb.load_data(num_words=10000)"
      ],
      "metadata": {
        "colab": {
          "base_uri": "https://localhost:8080/"
        },
        "id": "CbUw-zh4G025",
        "outputId": "7b8ae09a-b192-46fc-b523-ae7df1ea856a"
      },
      "execution_count": 3,
      "outputs": [
        {
          "output_type": "stream",
          "name": "stdout",
          "text": [
            "Downloading data from https://storage.googleapis.com/tensorflow/tf-keras-datasets/imdb.npz\n",
            "17464789/17464789 [==============================] - 0s 0us/step\n"
          ]
        }
      ]
    },
    {
      "cell_type": "code",
      "source": [
        "test_labels.shape"
      ],
      "metadata": {
        "colab": {
          "base_uri": "https://localhost:8080/"
        },
        "id": "Ls91HdVEG1q6",
        "outputId": "c3c7097d-f285-49a6-a661-5753d38be11b"
      },
      "execution_count": 4,
      "outputs": [
        {
          "output_type": "execute_result",
          "data": {
            "text/plain": [
              "(25000,)"
            ]
          },
          "metadata": {},
          "execution_count": 4
        }
      ]
    },
    {
      "cell_type": "code",
      "source": [
        "def vectorize_sequence(sequences,dimension=10000):\n",
        "  results = np.zeros((len(sequences),dimension))\n",
        "  for i , sequence in enumerate(sequences ):\n",
        "    results[i,sequence] = 1\n",
        "  return results\n"
      ],
      "metadata": {
        "id": "aj5DRvUuHNI0"
      },
      "execution_count": 5,
      "outputs": []
    },
    {
      "cell_type": "code",
      "source": [
        "train_data = vectorize_sequence(train_data)\n",
        "test_data = vectorize_sequence(test_data)\n",
        "train_labels = np.asarray(train_labels).astype('float32')\n",
        "test_labels = np.asarray(test_labels).astype('float32')\n"
      ],
      "metadata": {
        "id": "NBnQ8VIfJ0rp"
      },
      "execution_count": 6,
      "outputs": []
    },
    {
      "cell_type": "code",
      "source": [
        "train_labels.shape"
      ],
      "metadata": {
        "colab": {
          "base_uri": "https://localhost:8080/"
        },
        "id": "Qiog1O9Fle3J",
        "outputId": "c4e40ced-cb0a-4842-9800-a8dff919e126"
      },
      "execution_count": 7,
      "outputs": [
        {
          "output_type": "execute_result",
          "data": {
            "text/plain": [
              "(25000,)"
            ]
          },
          "metadata": {},
          "execution_count": 7
        }
      ]
    },
    {
      "cell_type": "code",
      "source": [
        "x_train,x_val,y_train,y_val = train_test_split(train_data,train_labels,test_size=0.2)"
      ],
      "metadata": {
        "id": "9PLOBXerKpNc"
      },
      "execution_count": 8,
      "outputs": []
    },
    {
      "cell_type": "code",
      "source": [
        "y_train.shape , y_val.shape ,x_train.shape"
      ],
      "metadata": {
        "colab": {
          "base_uri": "https://localhost:8080/"
        },
        "id": "4O9B6l8emOhj",
        "outputId": "0b95006b-68c6-4231-959e-0f8a313501d3"
      },
      "execution_count": 9,
      "outputs": [
        {
          "output_type": "execute_result",
          "data": {
            "text/plain": [
              "((20000,), (5000,), (20000, 10000))"
            ]
          },
          "metadata": {},
          "execution_count": 9
        }
      ]
    },
    {
      "cell_type": "code",
      "source": [
        "\"\"\"x_train = tf.Variable(x_train,dtype=tf.float32)\n",
        "x_val   = tf.Variable(x_val,dtype=tf.float32)\n",
        "y_train = tf.expand_dims(tf.Variable(y_train,dtype=tf.float32),axis=1)\n",
        "y_val   = tf.expand_dims(tf.Variable(y_val,dtype=tf.float32),axis=1)\n",
        "test_data   = tf.Variable(test_data,dtype=tf.float32)\n",
        "test_labels   = tf.expand_dims(tf.Variable(test_labels,dtype=tf.float32),axis=1)\"\"\""
      ],
      "metadata": {
        "colab": {
          "base_uri": "https://localhost:8080/",
          "height": 70
        },
        "id": "EJxKATUTHVKR",
        "outputId": "44c813e7-c2ce-47cb-cd7e-16a6aaa93559"
      },
      "execution_count": 10,
      "outputs": [
        {
          "output_type": "execute_result",
          "data": {
            "text/plain": [
              "'x_train = tf.Variable(x_train,dtype=tf.float32)\\nx_val   = tf.Variable(x_val,dtype=tf.float32)\\ny_train = tf.expand_dims(tf.Variable(y_train,dtype=tf.float32),axis=1)\\ny_val   = tf.expand_dims(tf.Variable(y_val,dtype=tf.float32),axis=1)\\ntest_data   = tf.Variable(test_data,dtype=tf.float32)\\ntest_labels   = tf.expand_dims(tf.Variable(test_labels,dtype=tf.float32),axis=1)'"
            ],
            "application/vnd.google.colaboratory.intrinsic+json": {
              "type": "string"
            }
          },
          "metadata": {},
          "execution_count": 10
        }
      ]
    },
    {
      "cell_type": "code",
      "source": [
        "x_train.shape , x_val.shape , test_data.shape ,test_labels.shape , y_train.shape  , y_val.shape"
      ],
      "metadata": {
        "colab": {
          "base_uri": "https://localhost:8080/"
        },
        "id": "WjI3NG2DJ0IM",
        "outputId": "a0740f49-e40f-4658-bea5-a48e834fb6dd"
      },
      "execution_count": 11,
      "outputs": [
        {
          "output_type": "execute_result",
          "data": {
            "text/plain": [
              "((20000, 10000), (5000, 10000), (25000, 10000), (25000,), (20000,), (5000,))"
            ]
          },
          "metadata": {},
          "execution_count": 11
        }
      ]
    },
    {
      "cell_type": "code",
      "source": [
        "model = keras.models.Sequential()\n",
        "model.add(keras.layers.Dense(16,activation='relu',input_shape=(10000,)))\n",
        "model.add(keras.layers.Dense(16,activation='tanh'))\n",
        "model.add(keras.layers.Dense(16,activation='relu'))\n",
        "model.add(keras.layers.Dense(1,activation='sigmoid'))\n"
      ],
      "metadata": {
        "id": "BEaLdxnxHp98"
      },
      "execution_count": 12,
      "outputs": []
    },
    {
      "cell_type": "code",
      "source": [
        "model.summary()"
      ],
      "metadata": {
        "colab": {
          "base_uri": "https://localhost:8080/"
        },
        "id": "k5OYRmxlHtlo",
        "outputId": "7ab70842-c94c-47d1-83ad-ab1b55b1864a"
      },
      "execution_count": 13,
      "outputs": [
        {
          "output_type": "stream",
          "name": "stdout",
          "text": [
            "Model: \"sequential\"\n",
            "_________________________________________________________________\n",
            " Layer (type)                Output Shape              Param #   \n",
            "=================================================================\n",
            " dense (Dense)               (None, 16)                160016    \n",
            "                                                                 \n",
            " dense_1 (Dense)             (None, 16)                272       \n",
            "                                                                 \n",
            " dense_2 (Dense)             (None, 16)                272       \n",
            "                                                                 \n",
            " dense_3 (Dense)             (None, 1)                 17        \n",
            "                                                                 \n",
            "=================================================================\n",
            "Total params: 160577 (627.25 KB)\n",
            "Trainable params: 160577 (627.25 KB)\n",
            "Non-trainable params: 0 (0.00 Byte)\n",
            "_________________________________________________________________\n"
          ]
        }
      ]
    },
    {
      "cell_type": "code",
      "source": [
        "model.compile(optimizer=keras.optimizers.RMSprop(learning_rate=0.001),loss=keras.losses.binary_crossentropy,metrics=['accuracy'])\n"
      ],
      "metadata": {
        "id": "RCDhv6gIZEm1"
      },
      "execution_count": 14,
      "outputs": []
    },
    {
      "cell_type": "code",
      "source": [
        "x_train.shape , y_train.shape , x_val.shape, y_val.shape"
      ],
      "metadata": {
        "colab": {
          "base_uri": "https://localhost:8080/"
        },
        "id": "jtwhMRs4bQdP",
        "outputId": "c94d30ca-d455-4b4c-87d8-75e3c4d76065"
      },
      "execution_count": 15,
      "outputs": [
        {
          "output_type": "execute_result",
          "data": {
            "text/plain": [
              "((20000, 10000), (20000,), (5000, 10000), (5000,))"
            ]
          },
          "metadata": {},
          "execution_count": 15
        }
      ]
    },
    {
      "cell_type": "code",
      "source": [
        "history = model.fit(x_train,y_train,epochs= 20 ,batch_size = 512, validation_data=(x_val,y_val))"
      ],
      "metadata": {
        "colab": {
          "base_uri": "https://localhost:8080/"
        },
        "id": "UgdsNIIPZmTQ",
        "outputId": "e12d00a3-c9a6-4c21-8c32-617b31f802f9"
      },
      "execution_count": 16,
      "outputs": [
        {
          "output_type": "stream",
          "name": "stdout",
          "text": [
            "Epoch 1/20\n",
            "40/40 [==============================] - 3s 46ms/step - loss: 0.4915 - accuracy: 0.7921 - val_loss: 0.3941 - val_accuracy: 0.8324\n",
            "Epoch 2/20\n",
            "40/40 [==============================] - 2s 40ms/step - loss: 0.2741 - accuracy: 0.9014 - val_loss: 0.3175 - val_accuracy: 0.8690\n",
            "Epoch 3/20\n",
            "40/40 [==============================] - 2s 43ms/step - loss: 0.2023 - accuracy: 0.9269 - val_loss: 0.3027 - val_accuracy: 0.8814\n",
            "Epoch 4/20\n",
            "40/40 [==============================] - 2s 44ms/step - loss: 0.1615 - accuracy: 0.9428 - val_loss: 0.2916 - val_accuracy: 0.8872\n",
            "Epoch 5/20\n",
            "40/40 [==============================] - 2s 43ms/step - loss: 0.1311 - accuracy: 0.9563 - val_loss: 0.3073 - val_accuracy: 0.8880\n",
            "Epoch 6/20\n",
            "40/40 [==============================] - 2s 42ms/step - loss: 0.1128 - accuracy: 0.9628 - val_loss: 0.3880 - val_accuracy: 0.8660\n",
            "Epoch 7/20\n",
            "40/40 [==============================] - 1s 36ms/step - loss: 0.0928 - accuracy: 0.9716 - val_loss: 0.3646 - val_accuracy: 0.8786\n",
            "Epoch 8/20\n",
            "40/40 [==============================] - 1s 30ms/step - loss: 0.0805 - accuracy: 0.9744 - val_loss: 0.3854 - val_accuracy: 0.8760\n",
            "Epoch 9/20\n",
            "40/40 [==============================] - 1s 30ms/step - loss: 0.0657 - accuracy: 0.9813 - val_loss: 0.4333 - val_accuracy: 0.8706\n",
            "Epoch 10/20\n",
            "40/40 [==============================] - 1s 30ms/step - loss: 0.0531 - accuracy: 0.9850 - val_loss: 0.4819 - val_accuracy: 0.8684\n",
            "Epoch 11/20\n",
            "40/40 [==============================] - 1s 29ms/step - loss: 0.0538 - accuracy: 0.9830 - val_loss: 0.4634 - val_accuracy: 0.8718\n",
            "Epoch 12/20\n",
            "40/40 [==============================] - 1s 29ms/step - loss: 0.0376 - accuracy: 0.9901 - val_loss: 0.5128 - val_accuracy: 0.8726\n",
            "Epoch 13/20\n",
            "40/40 [==============================] - 1s 29ms/step - loss: 0.0365 - accuracy: 0.9898 - val_loss: 0.5238 - val_accuracy: 0.8674\n",
            "Epoch 14/20\n",
            "40/40 [==============================] - 1s 31ms/step - loss: 0.0310 - accuracy: 0.9914 - val_loss: 0.5572 - val_accuracy: 0.8692\n",
            "Epoch 15/20\n",
            "40/40 [==============================] - 1s 29ms/step - loss: 0.0324 - accuracy: 0.9904 - val_loss: 0.5814 - val_accuracy: 0.8670\n",
            "Epoch 16/20\n",
            "40/40 [==============================] - 2s 43ms/step - loss: 0.0078 - accuracy: 0.9989 - val_loss: 0.6397 - val_accuracy: 0.8660\n",
            "Epoch 17/20\n",
            "40/40 [==============================] - 2s 44ms/step - loss: 0.0231 - accuracy: 0.9940 - val_loss: 0.6627 - val_accuracy: 0.8656\n",
            "Epoch 18/20\n",
            "40/40 [==============================] - 2s 44ms/step - loss: 0.0184 - accuracy: 0.9944 - val_loss: 0.6755 - val_accuracy: 0.8682\n",
            "Epoch 19/20\n",
            "40/40 [==============================] - 2s 43ms/step - loss: 0.0028 - accuracy: 0.9999 - val_loss: 0.7147 - val_accuracy: 0.8698\n",
            "Epoch 20/20\n",
            "40/40 [==============================] - 2s 41ms/step - loss: 0.0173 - accuracy: 0.9950 - val_loss: 0.7375 - val_accuracy: 0.8698\n"
          ]
        }
      ]
    },
    {
      "cell_type": "code",
      "source": [
        "history_dict = history.history"
      ],
      "metadata": {
        "id": "da77SsZsrUyB"
      },
      "execution_count": 17,
      "outputs": []
    },
    {
      "cell_type": "code",
      "source": [
        "model.evaluate(test_data,test_labels)"
      ],
      "metadata": {
        "colab": {
          "base_uri": "https://localhost:8080/"
        },
        "id": "3IoUjw1bbI1d",
        "outputId": "ceccc0c1-9601-4e17-a6a9-3b537c0a87cc"
      },
      "execution_count": 18,
      "outputs": [
        {
          "output_type": "stream",
          "name": "stdout",
          "text": [
            "782/782 [==============================] - 3s 4ms/step - loss: 0.7673 - accuracy: 0.8570\n"
          ]
        },
        {
          "output_type": "execute_result",
          "data": {
            "text/plain": [
              "[0.7673162221908569, 0.8570399880409241]"
            ]
          },
          "metadata": {},
          "execution_count": 18
        }
      ]
    },
    {
      "cell_type": "code",
      "source": [],
      "metadata": {
        "id": "PIclICyUrB0I"
      },
      "execution_count": 18,
      "outputs": []
    },
    {
      "cell_type": "markdown",
      "source": [
        "Plotting the Training and Validation loss"
      ],
      "metadata": {
        "id": "0TxULXMAsiI9"
      }
    },
    {
      "cell_type": "code",
      "source": [
        "history_dict.keys()"
      ],
      "metadata": {
        "colab": {
          "base_uri": "https://localhost:8080/"
        },
        "id": "3TLFF70esnMn",
        "outputId": "73f83a9d-a023-422d-c253-39ad81ab03d1"
      },
      "execution_count": 19,
      "outputs": [
        {
          "output_type": "execute_result",
          "data": {
            "text/plain": [
              "dict_keys(['loss', 'accuracy', 'val_loss', 'val_accuracy'])"
            ]
          },
          "metadata": {},
          "execution_count": 19
        }
      ]
    },
    {
      "cell_type": "code",
      "source": [
        "loss_values = history_dict['loss']\n",
        "val_loss = history_dict['val_loss']\n",
        "\n",
        "epochs = range(1,len(loss_values)+1)\n",
        "plt.plot(epochs,loss_values,'bo',label='Training Loss')\n",
        "plt.plot(epochs,val_loss,'b',label='Validation Loss')\n",
        "plt.title(\"Training and Validation Loss\")\n",
        "plt.xlabel('Epochs')\n",
        "plt.ylabel('Loss')\n",
        "plt.show()\n"
      ],
      "metadata": {
        "colab": {
          "base_uri": "https://localhost:8080/",
          "height": 472
        },
        "id": "_B9ig4WBsqvG",
        "outputId": "da88baef-8b33-4239-9ddb-836c76996448"
      },
      "execution_count": 20,
      "outputs": [
        {
          "output_type": "display_data",
          "data": {
            "text/plain": [
              "<Figure size 640x480 with 1 Axes>"
            ],
            "image/png": "[encoded data removed]"
          },
          "metadata": {}
        }
      ]
    },
    {
      "cell_type": "code",
      "source": [
        "acc_values = history_dict['accuracy']\n",
        "val_acc_values = history_dict['val_accuracy']\n",
        "plt.plot(epochs, acc_values, 'bo', label='Training accuracy')\n",
        "plt.plot(epochs, val_acc_values, 'b', label='Validation acc')\n",
        "plt.title('Training and validation accuracy')\n",
        "plt.xlabel('Epochs')\n",
        "plt.ylabel('Loss')\n",
        "plt.legend()\n",
        "plt.show()"
      ],
      "metadata": {
        "colab": {
          "base_uri": "https://localhost:8080/",
          "height": 472
        },
        "id": "dGbcTrR-t5Il",
        "outputId": "3f777c00-3f35-4fd5-c613-2e7290f36b21"
      },
      "execution_count": 23,
      "outputs": [
        {
          "output_type": "display_data",
          "data": {
            "text/plain": [
              "<Figure size 640x480 with 1 Axes>"
            ],
            "image/png": "[encoded data removed]"
          },
          "metadata": {}
        }
      ]
    },
    {
      "cell_type": "code",
      "source": [],
      "metadata": {
        "id": "oju0sJqXwvV0"
      },
      "execution_count": null,
      "outputs": []
    }
  ]
}