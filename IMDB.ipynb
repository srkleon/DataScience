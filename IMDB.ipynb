{
  "nbformat": 4,
  "nbformat_minor": 0,
  "metadata": {
    "colab": {
      "provenance": [],
      "authorship_tag": "ABX9TyNs5zzuvASsHAx+Xtmb9jLs",
      "include_colab_link": true
    },
    "kernelspec": {
      "name": "python3",
      "display_name": "Python 3"
    },
    "language_info": {
      "name": "python"
    }
  },
  "cells": [
    {
      "cell_type": "markdown",
      "metadata": {
        "id": "view-in-github",
        "colab_type": "text"
      },
      "source": [
        "<a href=\"https://colab.research.google.com/github/srkleon/DataScience/blob/main/IMDB.ipynb\" target=\"_parent\"><img src=\"https://colab.research.google.com/assets/colab-badge.svg\" alt=\"Open In Colab\"/></a>"
      ]
    },
    {
      "cell_type": "code",
      "execution_count": 1,
      "metadata": {
        "id": "XrE5VvaH2Ith"
      },
      "outputs": [],
      "source": [
        "import numpy as np\n",
        "import pandas as pd\n",
        "import tensorflow as tf\n",
        "from tensorflow import keras\n",
        "import  matplotlib.pyplot as plt\n",
        "import seaborn as sns\n",
        "from sklearn.model_selection import train_test_split"
      ]
    },
    {
      "cell_type": "code",
      "source": [
        "from keras.datasets import imdb\n"
      ],
      "metadata": {
        "id": "gshufdwI2LNn"
      },
      "execution_count": 2,
      "outputs": []
    },
    {
      "cell_type": "code",
      "source": [
        "(train_data,train_labels),(test_data,test_labels) = imdb.load_data(num_words=10000)"
      ],
      "metadata": {
        "id": "CbUw-zh4G025"
      },
      "execution_count": 3,
      "outputs": []
    },
    {
      "cell_type": "code",
      "source": [
        "test_labels.shape"
      ],
      "metadata": {
        "colab": {
          "base_uri": "https://localhost:8080/"
        },
        "id": "Ls91HdVEG1q6",
        "outputId": "747d4da6-c61f-4d3b-c430-ea65d214fa11"
      },
      "execution_count": 4,
      "outputs": [
        {
          "output_type": "execute_result",
          "data": {
            "text/plain": [
              "(25000,)"
            ]
          },
          "metadata": {},
          "execution_count": 4
        }
      ]
    },
    {
      "cell_type": "code",
      "source": [
        "def vectorize_sequence(sequences,dimension=10000):\n",
        "  results = np.zeros((len(sequences),dimension))\n",
        "  for i , sequence in enumerate(sequences ):\n",
        "    results[i,sequence] = 1\n",
        "  return results\n"
      ],
      "metadata": {
        "id": "aj5DRvUuHNI0"
      },
      "execution_count": 5,
      "outputs": []
    },
    {
      "cell_type": "code",
      "source": [
        "train_data = vectorize_sequence(train_data)\n",
        "test_data = vectorize_sequence(test_data)\n",
        "train_labels = np.asarray(train_labels).astype('float32')\n",
        "test_labels = np.asarray(test_labels).astype('float32')\n"
      ],
      "metadata": {
        "id": "NBnQ8VIfJ0rp"
      },
      "execution_count": 6,
      "outputs": []
    },
    {
      "cell_type": "code",
      "source": [
        "train_labels.shape"
      ],
      "metadata": {
        "colab": {
          "base_uri": "https://localhost:8080/"
        },
        "id": "Qiog1O9Fle3J",
        "outputId": "9d3fe530-0695-4c29-ab3f-a7889cbd5587"
      },
      "execution_count": 7,
      "outputs": [
        {
          "output_type": "execute_result",
          "data": {
            "text/plain": [
              "(25000,)"
            ]
          },
          "metadata": {},
          "execution_count": 7
        }
      ]
    },
    {
      "cell_type": "code",
      "source": [
        "x_train,x_val,y_train,y_val = train_test_split(train_data,train_labels,test_size=0.2)"
      ],
      "metadata": {
        "id": "9PLOBXerKpNc"
      },
      "execution_count": 8,
      "outputs": []
    },
    {
      "cell_type": "code",
      "source": [
        "y_train.shape , y_val.shape ,x_train.shape"
      ],
      "metadata": {
        "colab": {
          "base_uri": "https://localhost:8080/"
        },
        "id": "4O9B6l8emOhj",
        "outputId": "b2524d70-a974-4c61-bc91-93ac9c1fdfd7"
      },
      "execution_count": 9,
      "outputs": [
        {
          "output_type": "execute_result",
          "data": {
            "text/plain": [
              "((20000,), (5000,), (20000, 10000))"
            ]
          },
          "metadata": {},
          "execution_count": 9
        }
      ]
    },
    {
      "cell_type": "code",
      "source": [
        "\"\"\"x_train = tf.Variable(x_train,dtype=tf.float32)\n",
        "x_val   = tf.Variable(x_val,dtype=tf.float32)\n",
        "y_train = tf.expand_dims(tf.Variable(y_train,dtype=tf.float32),axis=1)\n",
        "y_val   = tf.expand_dims(tf.Variable(y_val,dtype=tf.float32),axis=1)\n",
        "test_data   = tf.Variable(test_data,dtype=tf.float32)\n",
        "test_labels   = tf.expand_dims(tf.Variable(test_labels,dtype=tf.float32),axis=1)\"\"\""
      ],
      "metadata": {
        "colab": {
          "base_uri": "https://localhost:8080/",
          "height": 70
        },
        "id": "EJxKATUTHVKR",
        "outputId": "bc70cd4f-8557-4fdb-a2bb-ee565894b16a"
      },
      "execution_count": 10,
      "outputs": [
        {
          "output_type": "execute_result",
          "data": {
            "text/plain": [
              "'x_train = tf.Variable(x_train,dtype=tf.float32)\\nx_val   = tf.Variable(x_val,dtype=tf.float32)\\ny_train = tf.expand_dims(tf.Variable(y_train,dtype=tf.float32),axis=1)\\ny_val   = tf.expand_dims(tf.Variable(y_val,dtype=tf.float32),axis=1)\\ntest_data   = tf.Variable(test_data,dtype=tf.float32)\\ntest_labels   = tf.expand_dims(tf.Variable(test_labels,dtype=tf.float32),axis=1)'"
            ],
            "application/vnd.google.colaboratory.intrinsic+json": {
              "type": "string"
            }
          },
          "metadata": {},
          "execution_count": 10
        }
      ]
    },
    {
      "cell_type": "code",
      "source": [
        "x_train.shape , x_val.shape , test_data.shape ,test_labels.shape , y_train.shape  , y_val.shape"
      ],
      "metadata": {
        "colab": {
          "base_uri": "https://localhost:8080/"
        },
        "id": "WjI3NG2DJ0IM",
        "outputId": "fcbca061-e6dc-4b06-aa73-a6ad943aa640"
      },
      "execution_count": 11,
      "outputs": [
        {
          "output_type": "execute_result",
          "data": {
            "text/plain": [
              "((20000, 10000), (5000, 10000), (25000, 10000), (25000,), (20000,), (5000,))"
            ]
          },
          "metadata": {},
          "execution_count": 11
        }
      ]
    },
    {
      "cell_type": "code",
      "source": [
        "model = keras.models.Sequential()\n",
        "model.add(keras.layers.Dense(16,activation='relu',input_shape=(10000,)))\n",
        "model.add(keras.layers.Dense(16,activation='relu'))\n",
        "model.add(keras.layers.Dense(1,activation='sigmoid'))\n"
      ],
      "metadata": {
        "id": "BEaLdxnxHp98"
      },
      "execution_count": 12,
      "outputs": []
    },
    {
      "cell_type": "code",
      "source": [
        "model.summary()"
      ],
      "metadata": {
        "colab": {
          "base_uri": "https://localhost:8080/"
        },
        "id": "k5OYRmxlHtlo",
        "outputId": "5f9438f6-1e95-4096-aa40-0fb8310b23d4"
      },
      "execution_count": 13,
      "outputs": [
        {
          "output_type": "stream",
          "name": "stdout",
          "text": [
            "Model: \"sequential\"\n",
            "_________________________________________________________________\n",
            " Layer (type)                Output Shape              Param #   \n",
            "=================================================================\n",
            " dense (Dense)               (None, 16)                160016    \n",
            "                                                                 \n",
            " dense_1 (Dense)             (None, 16)                272       \n",
            "                                                                 \n",
            " dense_2 (Dense)             (None, 1)                 17        \n",
            "                                                                 \n",
            "=================================================================\n",
            "Total params: 160305 (626.19 KB)\n",
            "Trainable params: 160305 (626.19 KB)\n",
            "Non-trainable params: 0 (0.00 Byte)\n",
            "_________________________________________________________________\n"
          ]
        }
      ]
    },
    {
      "cell_type": "code",
      "source": [
        "model.compile(optimizer=keras.optimizers.RMSprop(learning_rate=0.001),loss=keras.losses.binary_crossentropy,metrics=['accuracy'])\n"
      ],
      "metadata": {
        "id": "RCDhv6gIZEm1"
      },
      "execution_count": 14,
      "outputs": []
    },
    {
      "cell_type": "code",
      "source": [
        "x_train.shape , y_train.shape , x_val.shape, y_val.shape"
      ],
      "metadata": {
        "colab": {
          "base_uri": "https://localhost:8080/"
        },
        "id": "jtwhMRs4bQdP",
        "outputId": "b2c36e46-8d8e-4514-b306-6956305a78c6"
      },
      "execution_count": 15,
      "outputs": [
        {
          "output_type": "execute_result",
          "data": {
            "text/plain": [
              "((20000, 10000), (20000,), (5000, 10000), (5000,))"
            ]
          },
          "metadata": {},
          "execution_count": 15
        }
      ]
    },
    {
      "cell_type": "code",
      "source": [
        "history = model.fit(x_train,y_train,epochs=5 ,batch_size = 512, validation_data=(x_val,y_val))"
      ],
      "metadata": {
        "colab": {
          "base_uri": "https://localhost:8080/"
        },
        "id": "UgdsNIIPZmTQ",
        "outputId": "1e7f861e-a05e-456d-f031-971286aa2ef0"
      },
      "execution_count": 16,
      "outputs": [
        {
          "output_type": "stream",
          "name": "stdout",
          "text": [
            "Epoch 1/5\n",
            "40/40 [==============================] - 3s 57ms/step - loss: 0.4908 - accuracy: 0.7918 - val_loss: 0.3635 - val_accuracy: 0.8674\n",
            "Epoch 2/5\n",
            "40/40 [==============================] - 2s 46ms/step - loss: 0.2866 - accuracy: 0.9021 - val_loss: 0.3261 - val_accuracy: 0.8700\n",
            "Epoch 3/5\n",
            "40/40 [==============================] - 2s 44ms/step - loss: 0.2177 - accuracy: 0.9248 - val_loss: 0.2899 - val_accuracy: 0.8880\n",
            "Epoch 4/5\n",
            "40/40 [==============================] - 1s 34ms/step - loss: 0.1803 - accuracy: 0.9381 - val_loss: 0.2825 - val_accuracy: 0.8834\n",
            "Epoch 5/5\n",
            "40/40 [==============================] - 1s 30ms/step - loss: 0.1547 - accuracy: 0.9469 - val_loss: 0.2801 - val_accuracy: 0.8880\n"
          ]
        },
        {
          "output_type": "execute_result",
          "data": {
            "text/plain": [
              "<keras.src.callbacks.History at 0x78887c983fd0>"
            ]
          },
          "metadata": {},
          "execution_count": 16
        }
      ]
    },
    {
      "cell_type": "code",
      "source": [],
      "metadata": {
        "id": "da77SsZsrUyB"
      },
      "execution_count": null,
      "outputs": []
    },
    {
      "cell_type": "code",
      "source": [
        "model.evaluate(test_data,test_labels)"
      ],
      "metadata": {
        "colab": {
          "base_uri": "https://localhost:8080/"
        },
        "id": "3IoUjw1bbI1d",
        "outputId": "0d0b3570-0530-4dfe-ed98-ca33fd447e7c"
      },
      "execution_count": 17,
      "outputs": [
        {
          "output_type": "stream",
          "name": "stdout",
          "text": [
            "782/782 [==============================] - 7s 8ms/step - loss: 0.3075 - accuracy: 0.8782\n"
          ]
        },
        {
          "output_type": "execute_result",
          "data": {
            "text/plain": [
              "[0.3075457215309143, 0.8782399892807007]"
            ]
          },
          "metadata": {},
          "execution_count": 17
        }
      ]
    },
    {
      "cell_type": "code",
      "source": [],
      "metadata": {
        "id": "PIclICyUrB0I"
      },
      "execution_count": null,
      "outputs": []
    }
  ]
}