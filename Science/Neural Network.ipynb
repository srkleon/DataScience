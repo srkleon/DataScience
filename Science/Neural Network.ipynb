{
 "cells": [
  {
   "cell_type": "markdown",
   "id": "de3fb7a4",
   "metadata": {},
   "source": [
    "Specification of a neural network :\n",
    "1. input layer\n",
    "2. output layer\n",
    "3. hidden layer\n",
    "4. wights and biases\n",
    "5. Activation function\n",
    "6. Network topylogy / Structure"
   ]
  },
  {
   "cell_type": "markdown",
   "id": "6d85ee8c",
   "metadata": {},
   "source": [
    "Inputs & outputs of Neural network:\n",
    "- Number of input layer neurons is equal to the number of attributes in the input data\n",
    "- Number of output layer neuron is equal to the number of classes in a classification problem and 1 in a regression problem.\n",
    "- Structured Data\n",
    "- image - Pixels - Pixel Values\n",
    "- Text data - One Hot encoding / word embedding\n",
    "- Speech - Fourier transform"
   ]
  },
  {
   "cell_type": "code",
   "execution_count": null,
   "id": "f715ef5e",
   "metadata": {},
   "outputs": [],
   "source": []
  }
 ],
 "metadata": {
  "kernelspec": {
   "display_name": "Python 3 (ipykernel)",
   "language": "python",
   "name": "python3"
  },
  "language_info": {
   "codemirror_mode": {
    "name": "ipython",
    "version": 3
   },
   "file_extension": ".py",
   "mimetype": "text/x-python",
   "name": "python",
   "nbconvert_exporter": "python",
   "pygments_lexer": "ipython3",
   "version": "3.11.4"
  }
 },
 "nbformat": 4,
 "nbformat_minor": 5
}
