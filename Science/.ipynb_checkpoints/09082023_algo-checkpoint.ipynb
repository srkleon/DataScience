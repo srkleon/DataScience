{
 "cells": [
  {
   "cell_type": "code",
   "execution_count": 1,
   "id": "20e3d9b8",
   "metadata": {},
   "outputs": [
    {
     "data": {
      "text/plain": [
       "[1, 3, True, 6.5, 'som']"
      ]
     },
     "execution_count": 1,
     "metadata": {},
     "output_type": "execute_result"
    }
   ],
   "source": [
    "#python list\n",
    "[1,3,True,6.5,'som']"
   ]
  },
  {
   "cell_type": "code",
   "execution_count": 4,
   "id": "a0f10b45",
   "metadata": {},
   "outputs": [
    {
     "data": {
      "text/plain": [
       "[0, 0, 0, 0, 0, 0]"
      ]
     },
     "execution_count": 4,
     "metadata": {},
     "output_type": "execute_result"
    }
   ],
   "source": [
    "#operations that can be done to list include indexing , concatenation, repetition, membership , length and slicing\n",
    "mylist = [0] * 6 #repetition\n",
    "mylist\n",
    "\n"
   ]
  },
  {
   "cell_type": "code",
   "execution_count": 5,
   "id": "6973b7fc",
   "metadata": {},
   "outputs": [
    {
     "data": {
      "text/plain": [
       "[0, 0]"
      ]
     },
     "execution_count": 5,
     "metadata": {},
     "output_type": "execute_result"
    }
   ],
   "source": [
    "mylist[1:3] #indexing"
   ]
  },
  {
   "cell_type": "markdown",
   "id": "72c878af",
   "metadata": {},
   "source": [
    "One very important side relating to the repetition operator is that the result is a repetition of references to the data objects in the sequence. This can best be seen by considering the following session:\n"
   ]
  },
  {
   "cell_type": "code",
   "execution_count": 6,
   "id": "83be3574",
   "metadata": {},
   "outputs": [
    {
     "name": "stdout",
     "output_type": "stream",
     "text": [
      "[[1, 2, 3, 4], [1, 2, 3, 4], [1, 2, 3, 4]]\n",
      "[[1, 2, 45, 4], [1, 2, 45, 4], [1, 2, 45, 4]]\n"
     ]
    }
   ],
   "source": [
    "myList = [1,2,3,4]\n",
    "A = [myList]*3\n",
    "print(A)\n",
    "myList[2]=45\n",
    "print(A)"
   ]
  },
  {
   "cell_type": "markdown",
   "id": "c84fab7d",
   "metadata": {},
   "source": [
    "The variable A holds a collection of three references to the original list called myList. Note that a change to one element of myList shows up in all three occurrences in A."
   ]
  },
  {
   "cell_type": "markdown",
   "id": "25052afe",
   "metadata": {},
   "source": [
    "    append\talist.append(item)\tAdds a new item to the end of a list\n",
    "    insert\talist.insert(i,item)\tInserts an item at the ith position in a list\n",
    "    pop\talist.pop()\tRemoves and returns the last item in a list\n",
    "    pop\talist.pop(i)\tRemoves and returns the ith item in a list\n",
    "    sort\talist.sort()\tModifies a list to be sorted\n",
    "    reverse\talist.reverse()\tModifies a list to be in reverse order\n",
    "    del\tdel alist[i]\tDeletes the item in the ith position\n",
    "    index\talist.index(item)\tReturns the index of the first occurrence of item\n",
    "    count\talist.count(item)\tReturns the number of occurrences of item\n",
    "    remove\talist.remove(item)\tRemoves the first occurrence of item\n"
   ]
  },
  {
   "cell_type": "code",
   "execution_count": 18,
   "id": "0331da74",
   "metadata": {},
   "outputs": [
    {
     "name": "stdout",
     "output_type": "stream",
     "text": [
      "[1, 2, 3, 4, 5, 7, 8]\n",
      "[1, 2, 3, 4, 5, 7, 8, 9]\n",
      "[9, 8, 7, 5, 4, 3, 2, 1]\n",
      "[9, 8, 7, 5, 4, 3, 2, 1, 8, 9]\n",
      "[8, 7, 5, 4, 3, 2, 1, 8, 9]\n"
     ]
    },
    {
     "data": {
      "text/plain": [
       "2"
      ]
     },
     "execution_count": 18,
     "metadata": {},
     "output_type": "execute_result"
    }
   ],
   "source": [
    "mylist=[1,2,3,4,5,6,7,8]\n",
    "del mylist[5]\n",
    "print(mylist)\n",
    "mylist.append(9)\n",
    "print(mylist)\n",
    "mylist.reverse()\n",
    "print(mylist)\n",
    "mylist.append(8)\n",
    "mylist.append(9)\n",
    "print(mylist)\n",
    "mylist.remove(9)\n",
    "print(mylist)\n",
    "mylist.count(8)"
   ]
  },
  {
   "cell_type": "markdown",
   "id": "07b93349",
   "metadata": {},
   "source": [
    "\n",
    "The range object represents a sequence of integers. By default, it will start with 0. If you provide more parameters, it will start and end at particular points and can even skip items. In our first example, range(10), the sequence starts with 0 and goes up to but does not include 10. In our second example, range(5,10) starts at 5 and goes up to but not including 10. range(5,10,2) performs similarly but skips by twos (again, 10 is not included)."
   ]
  },
  {
   "cell_type": "code",
   "execution_count": 19,
   "id": "a8a78cf4",
   "metadata": {},
   "outputs": [
    {
     "data": {
      "text/plain": [
       "range(10, 1, -1)"
      ]
     },
     "execution_count": 19,
     "metadata": {},
     "output_type": "execute_result"
    }
   ],
   "source": [
    "range(10,1,-1)"
   ]
  },
  {
   "cell_type": "code",
   "execution_count": 20,
   "id": "f0797168",
   "metadata": {},
   "outputs": [
    {
     "data": {
      "text/plain": [
       "[10, 9, 8, 7, 6, 5, 4, 3, 2]"
      ]
     },
     "execution_count": 20,
     "metadata": {},
     "output_type": "execute_result"
    }
   ],
   "source": [
    "list(range(10,1,-1))"
   ]
  },
  {
   "cell_type": "markdown",
   "id": "184c8fe4",
   "metadata": {},
   "source": [
    "String Operations"
   ]
  },
  {
   "cell_type": "markdown",
   "id": "e5fc103c",
   "metadata": {},
   "source": [
    "    center\tastring.center(w)\tReturns a string centered in a field of size w\n",
    "    count\tastring.count(item)\tReturns the number of occurrences of item in the string\n",
    "    ljust\tastring.ljust(w)\tReturns a string left-justified in a field of size w\n",
    "    lower\tastring.lower()\tReturns a string in all lowercase\n",
    "    rjust\tastring.rjust(w)\tReturns a string right-justified in a field of size w\n",
    "    find\tastring.find(item)\tReturns the index of the first occurrence of item\n",
    "    split\tastring.split(schar)\tSplits a string into substrings at schar\n"
   ]
  },
  {
   "cell_type": "code",
   "execution_count": 26,
   "id": "e0d567de",
   "metadata": {},
   "outputs": [
    {
     "data": {
      "text/plain": [
       "'xxxxsoumya'"
      ]
     },
     "execution_count": 26,
     "metadata": {},
     "output_type": "execute_result"
    }
   ],
   "source": [
    "mystr= \"soumya\"\n",
    "mystr.rjust(10,\"x\")"
   ]
  },
  {
   "cell_type": "markdown",
   "id": "9c41c6af",
   "metadata": {},
   "source": [
    "A major difference between lists and strings is that lists can be modified while strings cannot. This is referred to as mutability. Lists are mutable; strings are immutable."
   ]
  },
  {
   "cell_type": "markdown",
   "id": "78c06315",
   "metadata": {},
   "source": [
    "Tuples are very similar to lists in that they are heterogeneous sequences of data. The difference is that a tuple is immutable, like a string. A tuple cannot be changed. Tuples are written as comma-delimited values enclosed in parentheses. As sequences, they can use any operation described above."
   ]
  },
  {
   "cell_type": "code",
   "execution_count": 36,
   "id": "ea5ad86b",
   "metadata": {},
   "outputs": [
    {
     "data": {
      "text/plain": [
       "(True, 4.96)"
      ]
     },
     "execution_count": 36,
     "metadata": {},
     "output_type": "execute_result"
    }
   ],
   "source": [
    "#tuple\n",
    "mytuple = (2, True, 4.96)\n",
    "mytuple[1:3]\n"
   ]
  },
  {
   "cell_type": "code",
   "execution_count": 37,
   "id": "fa7f408d",
   "metadata": {},
   "outputs": [
    {
     "data": {
      "text/plain": [
       "3"
      ]
     },
     "execution_count": 37,
     "metadata": {},
     "output_type": "execute_result"
    }
   ],
   "source": [
    "len(mytuple)"
   ]
  },
  {
   "cell_type": "markdown",
   "id": "1ec50d98",
   "metadata": {},
   "source": [
    "A set is an unordered collection of zero or more immutable Python data objects. Sets do not allow duplicates and are written as comma-delimited values enclosed in curly braces. The empty set is represented by set(). Sets are heterogeneous, and the collection can be assigned to a variable as below"
   ]
  },
  {
   "cell_type": "code",
   "execution_count": 38,
   "id": "6d54d489",
   "metadata": {},
   "outputs": [
    {
     "data": {
      "text/plain": [
       "{3, 4.5, 6, False, 'cat'}"
      ]
     },
     "execution_count": 38,
     "metadata": {},
     "output_type": "execute_result"
    }
   ],
   "source": [
    "#set\n",
    "{3,6,\"cat\",4.5,False}"
   ]
  },
  {
   "cell_type": "code",
   "execution_count": 40,
   "id": "db821ea0",
   "metadata": {},
   "outputs": [
    {
     "data": {
      "text/plain": [
       "{3, 4.5, 6, False, 'cat'}"
      ]
     },
     "execution_count": 40,
     "metadata": {},
     "output_type": "execute_result"
    }
   ],
   "source": [
    "myset={3,6,\"cat\",4.5,False}\n",
    "myset"
   ]
  },
  {
   "cell_type": "markdown",
   "id": "63cef5eb",
   "metadata": {},
   "source": [
    "Even though sets are not considered to be sequential, they do support a few of the familiar operations presented earlier.\n",
    "\n",
    "    membership\tin\tSet membership\n",
    "    length\tlen\tReturns the cardinality of the set\n",
    "    |\taset | otherset\tReturns a new set with all elements from both sets\n",
    "    &\taset & otherset\tReturns a new set with only those elements common to both sets\n",
    "    -\taset - otherset\tReturns a new set with all items from the first set not in second\n",
    "    <=\taset <= otherset\tAsks whether all elements of the first set are in the second\n"
   ]
  },
  {
   "cell_type": "code",
   "execution_count": 41,
   "id": "91983e6e",
   "metadata": {},
   "outputs": [],
   "source": [
    "yourset = {3, 4.5, 6, False, 'cat','som'}"
   ]
  },
  {
   "cell_type": "code",
   "execution_count": 42,
   "id": "ab7ed589",
   "metadata": {},
   "outputs": [
    {
     "data": {
      "text/plain": [
       "False"
      ]
     },
     "execution_count": 42,
     "metadata": {},
     "output_type": "execute_result"
    }
   ],
   "source": [
    "myset.pop()"
   ]
  },
  {
   "cell_type": "code",
   "execution_count": 43,
   "id": "c0b08adf",
   "metadata": {},
   "outputs": [
    {
     "data": {
      "text/plain": [
       "{3, 4.5, 6, 'cat'}"
      ]
     },
     "execution_count": 43,
     "metadata": {},
     "output_type": "execute_result"
    }
   ],
   "source": [
    "myset"
   ]
  },
  {
   "cell_type": "markdown",
   "id": "178f7392",
   "metadata": {},
   "source": [
    "Dictionary"
   ]
  },
  {
   "cell_type": "code",
   "execution_count": 1,
   "id": "67323f71",
   "metadata": {},
   "outputs": [
    {
     "ename": "SyntaxError",
     "evalue": "invalid syntax (2129587443.py, line 2)",
     "output_type": "error",
     "traceback": [
      "\u001b[1;36m  File \u001b[1;32m\"C:\\Users\\soumyatm.694\\AppData\\Local\\Temp\\37\\ipykernel_4668\\2129587443.py\"\u001b[1;36m, line \u001b[1;32m2\u001b[0m\n\u001b[1;33m    input_str = sys.\u001b[0m\n\u001b[1;37m                    ^\u001b[0m\n\u001b[1;31mSyntaxError\u001b[0m\u001b[1;31m:\u001b[0m invalid syntax\n"
     ]
    }
   ],
   "source": [
    "import ast,sys\n",
    "input_str = sys."
   ]
  },
  {
   "cell_type": "code",
   "execution_count": 2,
   "id": "e9e76131",
   "metadata": {},
   "outputs": [],
   "source": [
    "%config IPCompleter.greedy=True"
   ]
  },
  {
   "cell_type": "code",
   "execution_count": null,
   "id": "1223103d",
   "metadata": {},
   "outputs": [],
   "source": []
  }
 ],
 "metadata": {
  "kernelspec": {
   "display_name": "Python 3 (ipykernel)",
   "language": "python",
   "name": "python3"
  },
  "language_info": {
   "codemirror_mode": {
    "name": "ipython",
    "version": 3
   },
   "file_extension": ".py",
   "mimetype": "text/x-python",
   "name": "python",
   "nbconvert_exporter": "python",
   "pygments_lexer": "ipython3",
   "version": "3.9.13"
  }
 },
 "nbformat": 4,
 "nbformat_minor": 5
}
