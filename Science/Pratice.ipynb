{
 "cells": [
  {
   "cell_type": "code",
   "execution_count": 2,
   "id": "1cf21bc8",
   "metadata": {},
   "outputs": [
    {
     "name": "stdout",
     "output_type": "stream",
     "text": [
      "50 10\n"
     ]
    }
   ],
   "source": [
    "a = 50\n",
    "b = 10\n",
    "print(a,b)"
   ]
  },
  {
   "cell_type": "code",
   "execution_count": 3,
   "id": "863c740d",
   "metadata": {},
   "outputs": [
    {
     "name": "stdout",
     "output_type": "stream",
     "text": [
      "10 50\n"
     ]
    }
   ],
   "source": [
    "a = a+b\n",
    "b = a-b\n",
    "a = a-b\n",
    "print(a,b)"
   ]
  },
  {
   "cell_type": "code",
   "execution_count": 9,
   "id": "f96b063a",
   "metadata": {},
   "outputs": [],
   "source": [
    "a = 12345"
   ]
  },
  {
   "cell_type": "code",
   "execution_count": 21,
   "id": "236a9bd1",
   "metadata": {},
   "outputs": [],
   "source": [
    "def reverse(x):\n",
    "    if x == 0 :\n",
    "        print(0)\n",
    "        return\n",
    "    rev = 0\n",
    "    while(x>0):\n",
    "        rev = rev * 10 + x % 10\n",
    "        x = x//10\n",
    "        \n",
    "    print(rev)    \n",
    "        "
   ]
  },
  {
   "cell_type": "code",
   "execution_count": 20,
   "id": "133dec88",
   "metadata": {},
   "outputs": [
    {
     "name": "stdout",
     "output_type": "stream",
     "text": [
      "54321\n"
     ]
    }
   ],
   "source": [
    "reverse(a)"
   ]
  },
  {
   "cell_type": "markdown",
   "id": "8068b5ee",
   "metadata": {},
   "source": [
    "GCD of two Numbers"
   ]
  },
  {
   "cell_type": "code",
   "execution_count": 3,
   "id": "51fd4476",
   "metadata": {},
   "outputs": [],
   "source": [
    "def GCD(x,y):\n",
    "    if y==0:\n",
    "        return x\n",
    "    return GCD(y,x%y)\n",
    "        \n",
    "    "
   ]
  },
  {
   "cell_type": "code",
   "execution_count": 24,
   "id": "e674ac6d",
   "metadata": {},
   "outputs": [
    {
     "name": "stdout",
     "output_type": "stream",
     "text": [
      "3\n"
     ]
    }
   ],
   "source": [
    "print(GCD(24,3))"
   ]
  },
  {
   "cell_type": "markdown",
   "id": "106f4ac8",
   "metadata": {},
   "source": [
    "GCD of a List of Integers"
   ]
  },
  {
   "cell_type": "code",
   "execution_count": 1,
   "id": "5c570105",
   "metadata": {},
   "outputs": [
    {
     "data": {
      "text/plain": [
       "1"
      ]
     },
     "execution_count": 1,
     "metadata": {},
     "output_type": "execute_result"
    }
   ],
   "source": [
    "22%3"
   ]
  },
  {
   "cell_type": "code",
   "execution_count": 5,
   "id": "c28579f6",
   "metadata": {},
   "outputs": [
    {
     "data": {
      "text/plain": [
       "11"
      ]
     },
     "execution_count": 5,
     "metadata": {},
     "output_type": "execute_result"
    }
   ],
   "source": [
    "GCD(11,22)"
   ]
  },
  {
   "cell_type": "code",
   "execution_count": 6,
   "id": "afb2f46f",
   "metadata": {},
   "outputs": [
    {
     "data": {
      "text/plain": [
       "11"
      ]
     },
     "execution_count": 6,
     "metadata": {},
     "output_type": "execute_result"
    }
   ],
   "source": [
    "11%22"
   ]
  },
  {
   "cell_type": "code",
   "execution_count": null,
   "id": "8ef8625c",
   "metadata": {},
   "outputs": [],
   "source": []
  }
 ],
 "metadata": {
  "kernelspec": {
   "display_name": "Python 3 (ipykernel)",
   "language": "python",
   "name": "python3"
  },
  "language_info": {
   "codemirror_mode": {
    "name": "ipython",
    "version": 3
   },
   "file_extension": ".py",
   "mimetype": "text/x-python",
   "name": "python",
   "nbconvert_exporter": "python",
   "pygments_lexer": "ipython3",
   "version": "3.9.13"
  }
 },
 "nbformat": 4,
 "nbformat_minor": 5
}
